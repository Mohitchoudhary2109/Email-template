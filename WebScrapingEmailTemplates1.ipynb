{
 "cells": [
  {
   "cell_type": "code",
   "execution_count": 1,
   "metadata": {},
   "outputs": [],
   "source": [
    "# https://blog.appsumo.com/business-email-examples/"
   ]
  },
  {
   "cell_type": "code",
   "execution_count": 9,
   "metadata": {},
   "outputs": [],
   "source": [
    "from bs4 import BeautifulSoup as bs\n",
    "import pandas as pd\n",
    "import requests"
   ]
  },
  {
   "cell_type": "code",
   "execution_count": 10,
   "metadata": {},
   "outputs": [
    {
     "data": {
      "text/plain": [
       "<Response [404]>"
      ]
     },
     "execution_count": 10,
     "metadata": {},
     "output_type": "execute_result"
    }
   ],
   "source": [
    "headers = {\n",
    "    'authority': 'blog.appsumo.com',\n",
    "    'cache-control': 'max-age=0',\n",
    "    'sec-ch-ua': '^\\\\^',\n",
    "    'sec-ch-ua-mobile': '?0',\n",
    "    'upgrade-insecure-requests': '1',\n",
    "    'user-agent': 'Mozilla/5.0 (Windows NT 10.0; Win64; x64) AppleWebKit/537.36 (KHTML, like Gecko) Chrome/91.0.4472.77 Safari/537.36 Edg/91.0.864.41',\n",
    "    'accept': 'text/html,application/xhtml+xml,application/xml;q=0.9,image/webp,image/apng,*/*;q=0.8,application/signed-exchange;v=b3;q=0.9',\n",
    "    'sec-fetch-site': 'cross-site',\n",
    "    'sec-fetch-mode': 'navigate',\n",
    "    'sec-fetch-user': '?1',\n",
    "    'sec-fetch-dest': 'document',\n",
    "    'accept-language': 'en-US,en;q=0.9',\n",
    "    'cookie': '__smVID=a125a67ff8af2c9889e451a0140e70ca74af45d2bcc2e7b8ab2f0ec6c99b81bc; _ga=GA1.2.1808139771.1623076986; _gid=GA1.2.24758052.1623076986; _fbp=fb.1.1623076985794.141344380; __smToken=GoQe8z6lKJ6zcRYQhJ5RmGui; __smListBuilderShown=Mon^%^20Jun^%^2007^%^202021^%^2020:13:15^%^20GMT+0530^%^20(India^%^20Standard^%^20Time); _gat_UA-52269-12=1',\n",
    "}\n",
    "\n",
    "response = requests.get('https://www.appsumo.com/templates/business/', headers=headers)\n",
    "response"
   ]
  },
  {
   "cell_type": "code",
   "execution_count": 11,
   "metadata": {},
   "outputs": [],
   "source": [
    "html = response.text\n",
    "soup = bs(html, 'html.parser')\n",
    "# To format the HTTP response received using the requests module\n",
    "# print(soup.prettify())"
   ]
  },
  {
   "cell_type": "markdown",
   "metadata": {},
   "source": [
    "# Heading"
   ]
  },
  {
   "cell_type": "code",
   "execution_count": 12,
   "metadata": {},
   "outputs": [
    {
     "name": "stdout",
     "output_type": "stream",
     "text": [
      "1\n"
     ]
    },
    {
     "ename": "IndexError",
     "evalue": "list index out of range",
     "output_type": "error",
     "traceback": [
      "\u001b[1;31m---------------------------------------------------------------------------\u001b[0m",
      "\u001b[1;31mIndexError\u001b[0m                                Traceback (most recent call last)",
      "\u001b[1;32m<ipython-input-12-eca475d01cda>\u001b[0m in \u001b[0;36m<module>\u001b[1;34m\u001b[0m\n\u001b[0;32m      6\u001b[0m \u001b[0mheading_content\u001b[0m \u001b[1;33m=\u001b[0m \u001b[1;33m[\u001b[0m\u001b[1;33m]\u001b[0m\u001b[1;33m\u001b[0m\u001b[1;33m\u001b[0m\u001b[0m\n\u001b[0;32m      7\u001b[0m \u001b[1;32mfor\u001b[0m \u001b[0mi\u001b[0m \u001b[1;32min\u001b[0m \u001b[0mrange\u001b[0m\u001b[1;33m(\u001b[0m\u001b[1;36m0\u001b[0m\u001b[1;33m,\u001b[0m\u001b[1;36m21\u001b[0m\u001b[1;33m)\u001b[0m\u001b[1;33m:\u001b[0m\u001b[1;33m\u001b[0m\u001b[1;33m\u001b[0m\u001b[0m\n\u001b[1;32m----> 8\u001b[1;33m     \u001b[0mheading_content\u001b[0m\u001b[1;33m.\u001b[0m\u001b[0mappend\u001b[0m\u001b[1;33m(\u001b[0m\u001b[0mheadings\u001b[0m\u001b[1;33m[\u001b[0m\u001b[0mi\u001b[0m\u001b[1;33m]\u001b[0m\u001b[1;33m.\u001b[0m\u001b[0mget_text\u001b[0m\u001b[1;33m(\u001b[0m\u001b[1;33m)\u001b[0m\u001b[1;33m.\u001b[0m\u001b[0msplit\u001b[0m\u001b[1;33m(\u001b[0m\u001b[1;34m'. '\u001b[0m\u001b[1;33m)\u001b[0m\u001b[1;33m[\u001b[0m\u001b[1;36m1\u001b[0m\u001b[1;33m]\u001b[0m\u001b[1;33m)\u001b[0m\u001b[1;33m\u001b[0m\u001b[1;33m\u001b[0m\u001b[0m\n\u001b[0m\u001b[0;32m      9\u001b[0m \u001b[1;33m\u001b[0m\u001b[0m\n\u001b[0;32m     10\u001b[0m \u001b[1;31m# print('Number of heading Contents : ', len(heading_content))\u001b[0m\u001b[1;33m\u001b[0m\u001b[1;33m\u001b[0m\u001b[1;33m\u001b[0m\u001b[0m\n",
      "\u001b[1;31mIndexError\u001b[0m: list index out of range"
     ]
    }
   ],
   "source": [
    "headings = soup.find_all('h2')\n",
    "print(len(headings))\n",
    "# headings[16].text\n",
    "\n",
    "\n",
    "heading_content = []\n",
    "for i in range(0,21):\n",
    "    heading_content.append(headings[i].get_text().split('. ')[1])\n",
    "    \n",
    "# print('Number of heading Contents : ', len(heading_content))  \n",
    "# heading_content"
   ]
  },
  {
   "cell_type": "markdown",
   "metadata": {},
   "source": [
    "# Email Templates"
   ]
  },
  {
   "cell_type": "code",
   "execution_count": 6,
   "metadata": {},
   "outputs": [
    {
     "name": "stdout",
     "output_type": "stream",
     "text": [
      "21\n",
      "Number of Box Contents :  21\n",
      "Number of Box Contents :  21\n"
     ]
    }
   ],
   "source": [
    "box = soup.find_all('div', {'class':'appsumo-textbox'})\n",
    "box\n",
    "# box[0].get_text()\n",
    "# box[1].get_text()\n",
    "print(len(box))\n",
    "\n",
    "box_content = []\n",
    "for i in range(0,len(box)):\n",
    "    box_content.append(box[i].get_text())\n",
    "    \n",
    "print('Number of Box Contents : ', len(box_content))  \n",
    "# box_content\n",
    "\n",
    "\n",
    "box_content[:] = [box.lstrip('\\n') for box in box_content]\n",
    "box_content[:] = [box.rstrip('\\n') for box in box_content]\n",
    "print('Number of Box Contents : ', len(box_content))  \n",
    "# box_content"
   ]
  },
  {
   "cell_type": "code",
   "execution_count": 13,
   "metadata": {},
   "outputs": [
    {
     "ename": "NameError",
     "evalue": "name 'box_content' is not defined",
     "output_type": "error",
     "traceback": [
      "\u001b[1;31m---------------------------------------------------------------------------\u001b[0m",
      "\u001b[1;31mNameError\u001b[0m                                 Traceback (most recent call last)",
      "\u001b[1;32m<ipython-input-13-f07fba61d30e>\u001b[0m in \u001b[0;36m<module>\u001b[1;34m\u001b[0m\n\u001b[0;32m      1\u001b[0m \u001b[0mdf1\u001b[0m \u001b[1;33m=\u001b[0m \u001b[0mpd\u001b[0m\u001b[1;33m.\u001b[0m\u001b[0mDataFrame\u001b[0m\u001b[1;33m(\u001b[0m\u001b[1;33m)\u001b[0m\u001b[1;33m\u001b[0m\u001b[1;33m\u001b[0m\u001b[0m\n\u001b[0;32m      2\u001b[0m \u001b[0mdf1\u001b[0m\u001b[1;33m[\u001b[0m\u001b[1;34m'Heading'\u001b[0m\u001b[1;33m]\u001b[0m\u001b[1;33m=\u001b[0m\u001b[0mheading_content\u001b[0m\u001b[1;33m\u001b[0m\u001b[1;33m\u001b[0m\u001b[0m\n\u001b[1;32m----> 3\u001b[1;33m \u001b[0mdf1\u001b[0m\u001b[1;33m[\u001b[0m\u001b[1;34m'Email Template'\u001b[0m\u001b[1;33m]\u001b[0m\u001b[1;33m=\u001b[0m\u001b[0mbox_content\u001b[0m\u001b[1;33m\u001b[0m\u001b[1;33m\u001b[0m\u001b[0m\n\u001b[0m\u001b[0;32m      4\u001b[0m \u001b[1;33m\u001b[0m\u001b[0m\n\u001b[0;32m      5\u001b[0m \u001b[1;31m# df1\u001b[0m\u001b[1;33m\u001b[0m\u001b[1;33m\u001b[0m\u001b[1;33m\u001b[0m\u001b[0m\n",
      "\u001b[1;31mNameError\u001b[0m: name 'box_content' is not defined"
     ]
    }
   ],
   "source": [
    "df1 = pd.DataFrame()\n",
    "df1['Heading']=heading_content\n",
    "df1['Email Template']=box_content\n",
    "\n",
    "# df1"
   ]
  },
  {
   "cell_type": "code",
   "execution_count": 3,
   "metadata": {},
   "outputs": [],
   "source": [
    "# df1.to_csv('emailtemplates.csv',index=True)"
   ]
  },
  {
   "cell_type": "code",
   "execution_count": 9,
   "metadata": {},
   "outputs": [],
   "source": [
    "# https://www.mailigen.com/blog/email-marketing-templates/"
   ]
  },
  {
   "cell_type": "code",
   "execution_count": 10,
   "metadata": {},
   "outputs": [
    {
     "data": {
      "text/plain": [
       "<Response [200]>"
      ]
     },
     "execution_count": 10,
     "metadata": {},
     "output_type": "execute_result"
    }
   ],
   "source": [
    "headers = {\n",
    "    'authority': 'www.mailigen.com',\n",
    "    'cache-control': 'max-age=0',\n",
    "    'sec-ch-ua': '^\\\\^',\n",
    "    'sec-ch-ua-mobile': '?0',\n",
    "    'upgrade-insecure-requests': '1',\n",
    "    'user-agent': 'Mozilla/5.0 (Windows NT 10.0; Win64; x64) AppleWebKit/537.36 (KHTML, like Gecko) Chrome/91.0.4472.77 Safari/537.36 Edg/91.0.864.41',\n",
    "    'accept': 'text/html,application/xhtml+xml,application/xml;q=0.9,image/webp,image/apng,*/*;q=0.8,application/signed-exchange;v=b3;q=0.9',\n",
    "    'sec-fetch-site': 'cross-site',\n",
    "    'sec-fetch-mode': 'navigate',\n",
    "    'sec-fetch-user': '?1',\n",
    "    'sec-fetch-dest': 'document',\n",
    "    'accept-language': 'en-US,en;q=0.9',\n",
    "    'cookie': '__smVID=0f29a8e4f1c066b9cd10da671cb23840dd2e001991b160a00a052c8d3bdecb40; csbwfs_show_hide_status=active; _ga=GA1.2.10001924.1623077402; _gcl_au=1.1.524447983.1623077402; _fbp=fb.1.1623077402854.1636783812; _ym_uid=1623077404567609909; _ym_d=1623077404; fpestid=Icq2BxmvBn4cCuBAmcRDdafW9a-Cfw09r-pqGcwNwuV5vrR0iNVIeCueyqk4FSfZ5A9aGg; intercom-id-hqausqan=57f3ca30-499d-4bd3-a926-a821e657b38e; intercom-session-hqausqan=; _gid=GA1.2.797972266.1623172845; _ym_isad=2; _ym_visorc=w; __smToken=d9L5U30iscW40hHzuIMPFbYC; _uetsid=db9bb290c87d11ebaf94cdec6e725d8f; _uetvid=a39b2760c79f11eb8b277f4f347e8feb; __smListBuilderShown=Tue^%^20Jun^%^2008^%^202021^%^2022:55:10^%^20GMT+0530^%^20(India^%^20Standard^%^20Time)',\n",
    "}\n",
    "\n",
    "response = requests.get('https://www.mailigen.com/blog/email-marketing-templates/', headers=headers)\n",
    "response"
   ]
  },
  {
   "cell_type": "code",
   "execution_count": 11,
   "metadata": {},
   "outputs": [],
   "source": [
    "html = response.text\n",
    "soup = bs(html, 'html.parser')"
   ]
  },
  {
   "cell_type": "markdown",
   "metadata": {},
   "source": [
    "# Heading"
   ]
  },
  {
   "cell_type": "code",
   "execution_count": 12,
   "metadata": {},
   "outputs": [
    {
     "name": "stdout",
     "output_type": "stream",
     "text": [
      "23\n"
     ]
    }
   ],
   "source": [
    "headings = soup.find_all('h2')\n",
    "print(len(headings))\n",
    "# headings[16].text\n",
    "\n",
    "\n",
    "heading_content = []\n",
    "for i in range(0,23):\n",
    "    heading_content.append(headings[i].get_text())\n",
    "    \n",
    "# print('Number of heading Contents : ', len(heading_content))  \n",
    "# heading_content"
   ]
  },
  {
   "cell_type": "code",
   "execution_count": 13,
   "metadata": {},
   "outputs": [
    {
     "name": "stdout",
     "output_type": "stream",
     "text": [
      "23\n",
      "Number of Box Contents :  23\n"
     ]
    }
   ],
   "source": [
    "box = soup.find_all('p', {'style':'margin-top:5px;margin-bottom:5px; '})\n",
    "# box\n",
    "print(len(box))\n",
    "\n",
    "box[0].get_text()\n",
    "\n",
    "box_content = []\n",
    "for i in range(0,len(box)):\n",
    "    box_content.append(box[i].get_text())\n",
    "    \n",
    "print('Number of Box Contents : ', len(box_content))  \n",
    "# box_content"
   ]
  },
  {
   "cell_type": "code",
   "execution_count": 14,
   "metadata": {},
   "outputs": [],
   "source": [
    "df2 = pd.DataFrame()\n",
    "df2['Heading']=heading_content\n",
    "df2['Email Template']=box_content\n",
    "# df2"
   ]
  },
  {
   "cell_type": "code",
   "execution_count": 15,
   "metadata": {},
   "outputs": [
    {
     "data": {
      "text/html": [
       "<div>\n",
       "<style scoped>\n",
       "    .dataframe tbody tr th:only-of-type {\n",
       "        vertical-align: middle;\n",
       "    }\n",
       "\n",
       "    .dataframe tbody tr th {\n",
       "        vertical-align: top;\n",
       "    }\n",
       "\n",
       "    .dataframe thead th {\n",
       "        text-align: right;\n",
       "    }\n",
       "</style>\n",
       "<table border=\"1\" class=\"dataframe\">\n",
       "  <thead>\n",
       "    <tr style=\"text-align: right;\">\n",
       "      <th></th>\n",
       "      <th>Heading</th>\n",
       "      <th>Email Template</th>\n",
       "    </tr>\n",
       "  </thead>\n",
       "  <tbody>\n",
       "    <tr>\n",
       "      <th>0</th>\n",
       "      <td>Lead magnet promotion email</td>\n",
       "      <td>Subject Line: New [Lead magnet type]) [Lead ma...</td>\n",
       "    </tr>\n",
       "    <tr>\n",
       "      <th>1</th>\n",
       "      <td>Lead magnet delivery email</td>\n",
       "      <td>Subject Line: Here’s your free [lead magnet ty...</td>\n",
       "    </tr>\n",
       "    <tr>\n",
       "      <th>2</th>\n",
       "      <td>Lead magnet follow-up email</td>\n",
       "      <td>Subject Line: Here is your free [lead magnet t...</td>\n",
       "    </tr>\n",
       "    <tr>\n",
       "      <th>3</th>\n",
       "      <td>Product launch email</td>\n",
       "      <td>Subject Line: It’s here! The [product name]\\nB...</td>\n",
       "    </tr>\n",
       "    <tr>\n",
       "      <th>4</th>\n",
       "      <td>Testimonial/review request email</td>\n",
       "      <td>Subject Line: Could you please do us a small f...</td>\n",
       "    </tr>\n",
       "    <tr>\n",
       "      <th>5</th>\n",
       "      <td>Discount offer email</td>\n",
       "      <td>Subject Line: A special discount is waiting fo...</td>\n",
       "    </tr>\n",
       "    <tr>\n",
       "      <th>6</th>\n",
       "      <td>Re-engagement email</td>\n",
       "      <td>Subject Line: Are you there?\\nBody:\\nHi [Name]...</td>\n",
       "    </tr>\n",
       "    <tr>\n",
       "      <th>7</th>\n",
       "      <td>Segmentation triggers email</td>\n",
       "      <td>Subject Line: I want to send you better conten...</td>\n",
       "    </tr>\n",
       "    <tr>\n",
       "      <th>8</th>\n",
       "      <td>Newsletter email</td>\n",
       "      <td>Subject Line: Here are some things you will fi...</td>\n",
       "    </tr>\n",
       "    <tr>\n",
       "      <th>9</th>\n",
       "      <td>Latest blog post email</td>\n",
       "      <td>Subject Line: (New Post) [Post title]\\nBody:\\n...</td>\n",
       "    </tr>\n",
       "    <tr>\n",
       "      <th>10</th>\n",
       "      <td>Blog post promotion email</td>\n",
       "      <td>Subject Line: Could you please help me out?\\nB...</td>\n",
       "    </tr>\n",
       "    <tr>\n",
       "      <th>11</th>\n",
       "      <td>Guest post outreach email</td>\n",
       "      <td>Subject Line: I would really like to write for...</td>\n",
       "    </tr>\n",
       "    <tr>\n",
       "      <th>12</th>\n",
       "      <td>Affiliate partnership email</td>\n",
       "      <td>Subject Line: Your readers will love this\\nBod...</td>\n",
       "    </tr>\n",
       "    <tr>\n",
       "      <th>13</th>\n",
       "      <td>Podcast invite email</td>\n",
       "      <td>Subject Line: I just listened to your podcast\\...</td>\n",
       "    </tr>\n",
       "    <tr>\n",
       "      <th>14</th>\n",
       "      <td>Products/services pitch email</td>\n",
       "      <td>Subject Line: I like what you’re doing\\nBody:\\...</td>\n",
       "    </tr>\n",
       "    <tr>\n",
       "      <th>15</th>\n",
       "      <td>Influencer outreach email</td>\n",
       "      <td>Subject Line: We want to partner with you\\nBod...</td>\n",
       "    </tr>\n",
       "    <tr>\n",
       "      <th>16</th>\n",
       "      <td>Call invite email</td>\n",
       "      <td>Subject Line: About your free consultation wit...</td>\n",
       "    </tr>\n",
       "    <tr>\n",
       "      <th>17</th>\n",
       "      <td>Call follow-up email</td>\n",
       "      <td>Subject Line: Following up on our call\\nBody:\\...</td>\n",
       "    </tr>\n",
       "    <tr>\n",
       "      <th>18</th>\n",
       "      <td>Client onboarding email</td>\n",
       "      <td>Subject Line: Details for starting [Project na...</td>\n",
       "    </tr>\n",
       "    <tr>\n",
       "      <th>19</th>\n",
       "      <td>Feedback request email</td>\n",
       "      <td>Subject Line: Help us to help serve you better...</td>\n",
       "    </tr>\n",
       "    <tr>\n",
       "      <th>20</th>\n",
       "      <td>Event invite email</td>\n",
       "      <td>Subject Line: We cordially invite you to [even...</td>\n",
       "    </tr>\n",
       "    <tr>\n",
       "      <th>21</th>\n",
       "      <td>Verification email template (also known as Dou...</td>\n",
       "      <td>Hey [Name], Thank you for signing up to my wee...</td>\n",
       "    </tr>\n",
       "    <tr>\n",
       "      <th>22</th>\n",
       "      <td>Welcome email template</td>\n",
       "      <td>Hey [name]!Welcome to [brand name]. We are hap...</td>\n",
       "    </tr>\n",
       "    <tr>\n",
       "      <th>23</th>\n",
       "      <td>Sales email template</td>\n",
       "      <td>Hi [Name], I hope this email finds you well. L...</td>\n",
       "    </tr>\n",
       "    <tr>\n",
       "      <th>24</th>\n",
       "      <td>Follow up email template – for sales email</td>\n",
       "      <td>Dear [Name], You are probably very busy, I tot...</td>\n",
       "    </tr>\n",
       "    <tr>\n",
       "      <th>25</th>\n",
       "      <td>Confirmation email template</td>\n",
       "      <td>Hi [Name], Thanks for shopping with us. We’ve ...</td>\n",
       "    </tr>\n",
       "    <tr>\n",
       "      <th>26</th>\n",
       "      <td>Shipping confirmation email template</td>\n",
       "      <td>Hi [Name], Your [product name] is on its way!Y...</td>\n",
       "    </tr>\n",
       "    <tr>\n",
       "      <th>27</th>\n",
       "      <td>Invoice email template</td>\n",
       "      <td>Hi [Name],Here is the invoice for the [industr...</td>\n",
       "    </tr>\n",
       "    <tr>\n",
       "      <th>28</th>\n",
       "      <td>Abandoned cart email template</td>\n",
       "      <td>Hey [Name], Good news! The [product] is still ...</td>\n",
       "    </tr>\n",
       "    <tr>\n",
       "      <th>29</th>\n",
       "      <td>Review email template</td>\n",
       "      <td>[Name], You recently purchased [product] from ...</td>\n",
       "    </tr>\n",
       "    <tr>\n",
       "      <th>30</th>\n",
       "      <td>Survey email template – formal version</td>\n",
       "      <td>Hi [Name],We hope that you enjoy our [Product/...</td>\n",
       "    </tr>\n",
       "    <tr>\n",
       "      <th>31</th>\n",
       "      <td>Survey email template – informal version</td>\n",
       "      <td>Hi [Name],As you know, we love to get feedback...</td>\n",
       "    </tr>\n",
       "    <tr>\n",
       "      <th>32</th>\n",
       "      <td>Customer satisfaction email template – open-en...</td>\n",
       "      <td>Hi [Name], Thanks for choosing us! We are alwa...</td>\n",
       "    </tr>\n",
       "    <tr>\n",
       "      <th>33</th>\n",
       "      <td>Customer service email template for dissatisfi...</td>\n",
       "      <td>Hi [Name], We are sorry to hear that you exper...</td>\n",
       "    </tr>\n",
       "    <tr>\n",
       "      <th>34</th>\n",
       "      <td>Meeting invitation email template – for business</td>\n",
       "      <td>Hi [Name], In order to discuss [Meeting’s purp...</td>\n",
       "    </tr>\n",
       "    <tr>\n",
       "      <th>35</th>\n",
       "      <td>Thank you email template</td>\n",
       "      <td>Hi [Name], I just wanted to thank you once aga...</td>\n",
       "    </tr>\n",
       "    <tr>\n",
       "      <th>36</th>\n",
       "      <td>Self introduction email template – personal</td>\n",
       "      <td>Hi [Name], [Common friend’s name] recently han...</td>\n",
       "    </tr>\n",
       "    <tr>\n",
       "      <th>37</th>\n",
       "      <td>Promotion announcement template – for transfer...</td>\n",
       "      <td>Greetings team [company name],I am pleased to ...</td>\n",
       "    </tr>\n",
       "    <tr>\n",
       "      <th>38</th>\n",
       "      <td>Promotion announcement template – for new prom...</td>\n",
       "      <td>Hey [first name],As you know, [special day] is...</td>\n",
       "    </tr>\n",
       "    <tr>\n",
       "      <th>39</th>\n",
       "      <td>Formal email template – business introduction</td>\n",
       "      <td>Hi [Name],Thank you for showing interest in [c...</td>\n",
       "    </tr>\n",
       "    <tr>\n",
       "      <th>40</th>\n",
       "      <td>Job inquiry email template</td>\n",
       "      <td>Hello [Name], You don’t know me… But I know yo...</td>\n",
       "    </tr>\n",
       "    <tr>\n",
       "      <th>41</th>\n",
       "      <td>Cover letter email template</td>\n",
       "      <td>Dear [Name],When I saw that you were looking f...</td>\n",
       "    </tr>\n",
       "    <tr>\n",
       "      <th>42</th>\n",
       "      <td>Professional reference letter template</td>\n",
       "      <td>Dear [Name], I am writing to recommend [Recomm...</td>\n",
       "    </tr>\n",
       "    <tr>\n",
       "      <th>43</th>\n",
       "      <td>(Post interview) Thank you email template</td>\n",
       "      <td>Dear [Name], Thank you for taking the time to ...</td>\n",
       "    </tr>\n",
       "  </tbody>\n",
       "</table>\n",
       "</div>"
      ],
      "text/plain": [
       "                                              Heading  \\\n",
       "0                         Lead magnet promotion email   \n",
       "1                          Lead magnet delivery email   \n",
       "2                         Lead magnet follow-up email   \n",
       "3                                Product launch email   \n",
       "4                    Testimonial/review request email   \n",
       "5                                Discount offer email   \n",
       "6                                 Re-engagement email   \n",
       "7                         Segmentation triggers email   \n",
       "8                                    Newsletter email   \n",
       "9                              Latest blog post email   \n",
       "10                          Blog post promotion email   \n",
       "11                          Guest post outreach email   \n",
       "12                        Affiliate partnership email   \n",
       "13                               Podcast invite email   \n",
       "14                      Products/services pitch email   \n",
       "15                          Influencer outreach email   \n",
       "16                                  Call invite email   \n",
       "17                               Call follow-up email   \n",
       "18                            Client onboarding email   \n",
       "19                             Feedback request email   \n",
       "20                                 Event invite email   \n",
       "21  Verification email template (also known as Dou...   \n",
       "22                             Welcome email template   \n",
       "23                               Sales email template   \n",
       "24         Follow up email template – for sales email   \n",
       "25                        Confirmation email template   \n",
       "26               Shipping confirmation email template   \n",
       "27                             Invoice email template   \n",
       "28                      Abandoned cart email template   \n",
       "29                              Review email template   \n",
       "30             Survey email template – formal version   \n",
       "31           Survey email template – informal version   \n",
       "32  Customer satisfaction email template – open-en...   \n",
       "33  Customer service email template for dissatisfi...   \n",
       "34   Meeting invitation email template – for business   \n",
       "35                           Thank you email template   \n",
       "36       Self introduction email template – personal    \n",
       "37  Promotion announcement template – for transfer...   \n",
       "38  Promotion announcement template – for new prom...   \n",
       "39      Formal email template – business introduction   \n",
       "40                         Job inquiry email template   \n",
       "41                        Cover letter email template   \n",
       "42             Professional reference letter template   \n",
       "43          (Post interview) Thank you email template   \n",
       "\n",
       "                                       Email Template  \n",
       "0   Subject Line: New [Lead magnet type]) [Lead ma...  \n",
       "1   Subject Line: Here’s your free [lead magnet ty...  \n",
       "2   Subject Line: Here is your free [lead magnet t...  \n",
       "3   Subject Line: It’s here! The [product name]\\nB...  \n",
       "4   Subject Line: Could you please do us a small f...  \n",
       "5   Subject Line: A special discount is waiting fo...  \n",
       "6   Subject Line: Are you there?\\nBody:\\nHi [Name]...  \n",
       "7   Subject Line: I want to send you better conten...  \n",
       "8   Subject Line: Here are some things you will fi...  \n",
       "9   Subject Line: (New Post) [Post title]\\nBody:\\n...  \n",
       "10  Subject Line: Could you please help me out?\\nB...  \n",
       "11  Subject Line: I would really like to write for...  \n",
       "12  Subject Line: Your readers will love this\\nBod...  \n",
       "13  Subject Line: I just listened to your podcast\\...  \n",
       "14  Subject Line: I like what you’re doing\\nBody:\\...  \n",
       "15  Subject Line: We want to partner with you\\nBod...  \n",
       "16  Subject Line: About your free consultation wit...  \n",
       "17  Subject Line: Following up on our call\\nBody:\\...  \n",
       "18  Subject Line: Details for starting [Project na...  \n",
       "19  Subject Line: Help us to help serve you better...  \n",
       "20  Subject Line: We cordially invite you to [even...  \n",
       "21  Hey [Name], Thank you for signing up to my wee...  \n",
       "22  Hey [name]!Welcome to [brand name]. We are hap...  \n",
       "23  Hi [Name], I hope this email finds you well. L...  \n",
       "24  Dear [Name], You are probably very busy, I tot...  \n",
       "25  Hi [Name], Thanks for shopping with us. We’ve ...  \n",
       "26  Hi [Name], Your [product name] is on its way!Y...  \n",
       "27  Hi [Name],Here is the invoice for the [industr...  \n",
       "28  Hey [Name], Good news! The [product] is still ...  \n",
       "29  [Name], You recently purchased [product] from ...  \n",
       "30  Hi [Name],We hope that you enjoy our [Product/...  \n",
       "31  Hi [Name],As you know, we love to get feedback...  \n",
       "32  Hi [Name], Thanks for choosing us! We are alwa...  \n",
       "33  Hi [Name], We are sorry to hear that you exper...  \n",
       "34  Hi [Name], In order to discuss [Meeting’s purp...  \n",
       "35  Hi [Name], I just wanted to thank you once aga...  \n",
       "36  Hi [Name], [Common friend’s name] recently han...  \n",
       "37  Greetings team [company name],I am pleased to ...  \n",
       "38  Hey [first name],As you know, [special day] is...  \n",
       "39  Hi [Name],Thank you for showing interest in [c...  \n",
       "40  Hello [Name], You don’t know me… But I know yo...  \n",
       "41  Dear [Name],When I saw that you were looking f...  \n",
       "42  Dear [Name], I am writing to recommend [Recomm...  \n",
       "43  Dear [Name], Thank you for taking the time to ...  "
      ]
     },
     "metadata": {},
     "output_type": "display_data"
    }
   ],
   "source": [
    "frames = [df1, df2]\n",
    "  \n",
    "df_final = pd.concat(frames, ignore_index = True)\n",
    "display(df_final)"
   ]
  },
  {
   "cell_type": "code",
   "execution_count": 16,
   "metadata": {},
   "outputs": [],
   "source": [
    "# df.to_csv('emailtemplates.csv',index=True)"
   ]
  }
 ],
 "metadata": {
  "kernelspec": {
   "display_name": "Python 3",
   "language": "python",
   "name": "python3"
  },
  "language_info": {
   "codemirror_mode": {
    "name": "ipython",
    "version": 3
   },
   "file_extension": ".py",
   "mimetype": "text/x-python",
   "name": "python",
   "nbconvert_exporter": "python",
   "pygments_lexer": "ipython3",
   "version": "3.7.4"
  }
 },
 "nbformat": 4,
 "nbformat_minor": 5
}
